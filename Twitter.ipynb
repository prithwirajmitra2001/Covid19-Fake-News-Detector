{
  "nbformat": 4,
  "nbformat_minor": 0,
  "metadata": {
    "colab": {
      "name": "Twitter",
      "provenance": [],
      "collapsed_sections": []
    },
    "kernelspec": {
      "name": "python3",
      "display_name": "Python 3"
    }
  },
  "cells": [
    {
      "cell_type": "code",
      "metadata": {
        "id": "I_f6E_RXXHuZ",
        "colab_type": "code",
        "colab": {}
      },
      "source": [
        "import json\n",
        "import csv\n",
        "import tweepy\n",
        "import re\n",
        "\n",
        "def search_for_hashtags(consumer_key, consumer_secret, access_token, access_token_secret, hashtag_phrase):\n",
        " \n",
        "    auth = tweepy.OAuthHandler(consumer_key, consumer_secret)\n",
        "    auth.set_access_token(access_token, access_token_secret)\n",
        "    api = tweepy.API(auth)\n",
        "    place_id = api.geo_search(query=\"IN\", granularity=\"country\")[0].id\n",
        "    \n",
        "    fname = '_'.join(re.findall(r\"#(\\w+)\", hashtag_phrase))\n",
        "\n",
        "    with open('%s.csv' % (fname), 'w', newline='') as file:\n",
        "\n",
        "        w = csv.writer(file)\n",
        "        w.writerow(['Time', 'Tweets', 'All_hashtags', 'Place'])\n",
        "\n",
        "        for tweet in tweepy.Cursor(api.search, q=hashtag_phrase+' -filter:retweets'+' place:'+place_id,\n",
        "                                   lang=\"en\", tweet_mode='extended', since='2020-06-29').items(20):\n",
        "            w.writerow([tweet.created_at, tweet.full_text.replace('\\n',' ').encode('utf-8'),\n",
        "                       [e['text'] for e in tweet._json['entities']['hashtags']], tweet.place.name ])"
      ],
      "execution_count": 82,
      "outputs": []
    },
    {
      "cell_type": "code",
      "metadata": {
        "id": "nDi_Yq3WeE6e",
        "colab_type": "code",
        "colab": {}
      },
      "source": [
        "consumer_key = 'UKeCtw58qxMMSdvHhIA0cfLHJ'\n",
        "consumer_secret = 'arnqdTdhmypGkAvtfEwDMV5wOU3cDhEOsI1J4TWCfyEUUMgXBC'\n",
        "access_token = '754676975826931713-Nwh9kwEaGg5fzFVsz6uHhlcfnK7gaH4'\n",
        "access_token_secret = 'tD6wsYgKm88wVA2dQce23rnDiLc5s8WASLPI8SybJXdLU'\n",
        "hashtag_phrase = '#COVID-19'\n",
        "\n",
        "if __name__ == '__main__':\n",
        "    search_for_hashtags(consumer_key, consumer_secret, access_token, access_token_secret, hashtag_phrase)"
      ],
      "execution_count": 83,
      "outputs": []
    }
  ]
}