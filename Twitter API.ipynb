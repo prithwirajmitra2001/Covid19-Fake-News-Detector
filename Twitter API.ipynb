{
 "cells": [
  {
   "cell_type": "code",
   "execution_count": null,
   "metadata": {},
   "outputs": [],
   "source": [
    "import json\n",
    "import csv\n",
    "import tweepy\n",
    "import re\n",
    "\n",
    "def search_for_hashtags(consumer_key, consumer_secret, access_token, access_token_secret, hashtag_phrase, tweet_num):\n",
    " \n",
    "    auth = tweepy.OAuthHandler(consumer_key, consumer_secret)\n",
    "    auth.set_access_token(access_token, access_token_secret)\n",
    "    api = tweepy.API(auth)\n",
    "#    places = api.geo_search(query=\"IN\", granularity=\"country\")\n",
    "#    place_id = places[0].id\n",
    "    \n",
    "    fname = re.sub(' AND ' , '_' , hashtag_phrase )\n",
    "    with open('%s.csv' % (fname), 'w', newline='') as file:\n",
    "\n",
    "        w = csv.writer(file)\n",
    "        w.writerow(['Time', 'Tweets', 'All_hashtags', 'Place'])\n",
    "\n",
    "        for tweet in tweepy.Cursor(api.search, q=hashtag_phrase+' -filter:retweets',\n",
    "                                   lang=\"en\", tweet_mode='extended').items(tweet_num):\n",
    "            w.writerow([tweet.created_at, tweet.full_text.replace('\\n',' ').encode('utf-8'),\n",
    "                       [e['text'] for e in tweet._json['entities']['hashtags']], tweet.place ])\n",
    "            \n",
    "# For GeoLocation : +' place : '+place_id\n",
    "# For getting place of tweet :  .name"
   ]
  },
  {
   "cell_type": "code",
   "execution_count": null,
   "metadata": {},
   "outputs": [],
   "source": [
    "consumer_key = # Give Codes\n",
    "consumer_secret = # Give Codes\n",
    "access_token = # Give Codes\n",
    "access_token_secret = # Give Codes\n",
    "hashtag_phrase = 'gaumutra AND corona AND cure'\n",
    "tweet_num = 500\n",
    "\n",
    "if __name__ == '__main__':\n",
    "    search_for_hashtags(consumer_key, consumer_secret, access_token, access_token_secret, hashtag_phrase, tweet_num)"
   ]
  }
 ],
 "metadata": {
  "kernelspec": {
   "display_name": "Python 3",
   "language": "python",
   "name": "python3"
  },
  "language_info": {
   "codemirror_mode": {
    "name": "ipython",
    "version": 3
   },
   "file_extension": ".py",
   "mimetype": "text/x-python",
   "name": "python",
   "nbconvert_exporter": "python",
   "pygments_lexer": "ipython3",
   "version": "3.7.6"
  }
 },
 "nbformat": 4,
 "nbformat_minor": 4
}
